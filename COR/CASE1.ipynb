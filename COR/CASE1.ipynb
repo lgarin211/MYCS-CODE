{
 "cells": [
  {
   "cell_type": "code",
   "execution_count": 1,
   "metadata": {},
   "outputs": [],
   "source": [
    "import numpy as np"
   ]
  },
  {
   "cell_type": "code",
   "execution_count": 7,
   "metadata": {},
   "outputs": [],
   "source": [
    "def checkDiagonalDominant(m):\n",
    "    m = np.array(m)\n",
    "    diag = np.diag(m)\n",
    "    rowSum = np.sum(np.abs(m), axis=1)\n",
    "    sumWithoutDiag = rowSum - np.abs(diag)\n",
    "    print(diag)\n",
    "    return np.all(np.abs(diag) > sumWithoutDiag)"
   ]
  },
  {
   "cell_type": "code",
   "execution_count": 15,
   "metadata": {},
   "outputs": [],
   "source": [
    "mX = [\n",
    "        [\n",
    "            [10, 2, -6],\n",
    "            [-1, 4, 2],\n",
    "            [2, 3, 6]\n",
    "        ],\n",
    "        [\n",
    "            [-5, 2, -8],\n",
    "            [4, -3, -9],\n",
    "            [-8, -10, 9]\n",
    "        ],\n",
    "        [\n",
    "            [10, -5, 3, 0],\n",
    "            [3, -9, 2, -2],\n",
    "            [-8, 0, 17, -4],\n",
    "            [3, -3, -8, -15]\n",
    "        ],\n",
    "]\n",
    "\n",
    "mY = [\n",
    "    [17, -4, -12],\n",
    "    [13, -7, -2],\n",
    "    [9, 10, -10, -18]\n",
    "]\n",
    "\n"
   ]
  },
  {
   "cell_type": "code",
   "execution_count": 16,
   "metadata": {},
   "outputs": [
    {
     "name": "stdout",
     "output_type": "stream",
     "text": [
      "[10  4  6]\n",
      "True\n",
      "[-5 -3  9]\n",
      "False\n",
      "[ 10  -9  17 -15]\n",
      "True\n"
     ]
    }
   ],
   "source": []
  }
 ],
 "metadata": {
  "kernelspec": {
   "display_name": "Python 3 (ipykernel)",
   "language": "python",
   "name": "python3"
  },
  "language_info": {
   "codemirror_mode": {
    "name": "ipython",
    "version": 3
   },
   "file_extension": ".py",
   "mimetype": "text/x-python",
   "name": "python",
   "nbconvert_exporter": "python",
   "pygments_lexer": "ipython3",
   "version": "3.10.4"
  },
  "orig_nbformat": 4
 },
 "nbformat": 4,
 "nbformat_minor": 2
}
