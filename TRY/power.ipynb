{
 "cells": [
  {
   "cell_type": "code",
   "execution_count": 1,
   "metadata": {},
   "outputs": [
    {
     "ename": "UFuncTypeError",
     "evalue": "Cannot cast ufunc 'divide' output from dtype('float64') to dtype('int64') with casting rule 'same_kind'",
     "output_type": "error",
     "traceback": [
      "\u001b[0;31m---------------------------------------------------------------------------\u001b[0m",
      "\u001b[0;31mUFuncTypeError\u001b[0m                            Traceback (most recent call last)",
      "Cell \u001b[0;32mIn[1], line 25\u001b[0m\n\u001b[1;32m     22\u001b[0m A \u001b[39m=\u001b[39m np\u001b[39m.\u001b[39marray([[\u001b[39m-\u001b[39m\u001b[39m30\u001b[39m, \u001b[39m10\u001b[39m, \u001b[39m20\u001b[39m], [\u001b[39m10\u001b[39m, \u001b[39m40\u001b[39m, \u001b[39m-\u001b[39m\u001b[39m50\u001b[39m], [\u001b[39m20\u001b[39m, \u001b[39m-\u001b[39m\u001b[39m50\u001b[39m, \u001b[39m-\u001b[39m\u001b[39m10\u001b[39m]])\n\u001b[1;32m     23\u001b[0m x0 \u001b[39m=\u001b[39m np\u001b[39m.\u001b[39marray([\u001b[39m1\u001b[39m, \u001b[39m1\u001b[39m, \u001b[39m1\u001b[39m]) \u001b[39m# any non-zero initial vector will work\u001b[39;00m\n\u001b[0;32m---> 25\u001b[0m eigenvalue, eigenvector \u001b[39m=\u001b[39m power_method(A, x0, max_iter\u001b[39m=\u001b[39;49m\u001b[39m5\u001b[39;49m)\n\u001b[1;32m     26\u001b[0m \u001b[39mprint\u001b[39m(\u001b[39m\"\u001b[39m\u001b[39mEigenvalue: \u001b[39m\u001b[39m\"\u001b[39m, eigenvalue)\n\u001b[1;32m     27\u001b[0m \u001b[39mprint\u001b[39m(\u001b[39m\"\u001b[39m\u001b[39mEigenvector: \u001b[39m\u001b[39m\"\u001b[39m, eigenvector)\n",
      "Cell \u001b[0;32mIn[1], line 15\u001b[0m, in \u001b[0;36mpower_method\u001b[0;34m(A, x0, epsilon, max_iter)\u001b[0m\n\u001b[1;32m     13\u001b[0m x_next \u001b[39m=\u001b[39m np\u001b[39m.\u001b[39mmatmul(A, x) \u001b[39m# matrix-vector multiplication A*x\u001b[39;00m\n\u001b[1;32m     14\u001b[0m lambda_next \u001b[39m=\u001b[39m np\u001b[39m.\u001b[39mlinalg\u001b[39m.\u001b[39mnorm(x_next, \u001b[39m2\u001b[39m) \u001b[39m# eigenvalue approximation\u001b[39;00m\n\u001b[0;32m---> 15\u001b[0m x_next \u001b[39m/\u001b[39m\u001b[39m=\u001b[39m lambda_next \u001b[39m# normalization of the eigenvector approximation\u001b[39;00m\n\u001b[1;32m     16\u001b[0m \u001b[39mif\u001b[39;00m np\u001b[39m.\u001b[39mabs(lambda_next \u001b[39m-\u001b[39m np\u001b[39m.\u001b[39mlinalg\u001b[39m.\u001b[39mnorm(x, \u001b[39m2\u001b[39m)) \u001b[39m<\u001b[39m epsilon:\n\u001b[1;32m     17\u001b[0m     \u001b[39mreturn\u001b[39;00m lambda_next, x_next\n",
      "\u001b[0;31mUFuncTypeError\u001b[0m: Cannot cast ufunc 'divide' output from dtype('float64') to dtype('int64') with casting rule 'same_kind'"
     ]
    }
   ],
   "source": [
    "import numpy as np\n",
    "\n",
    "def power_method(A, x0, epsilon=1e-6, max_iter=5):\n",
    "    \"\"\"\n",
    "    This function finds the largest eigenvalue and corresponding eigenvector of a square matrix A,\n",
    "    using the power method.\n",
    "    It takes a square matrix A, an initial approximation of the eigenvector x0,\n",
    "    a tolerance epsilon (for the convergence criterion) and a maximum number of iterations max_iter.\n",
    "    It returns the eigenvalue and eigenvector as a tuple.\n",
    "    \"\"\"\n",
    "    x = x0\n",
    "    for i in range(max_iter):\n",
    "        x_next = np.matmul(A, x) # matrix-vector multiplication A*x\n",
    "        lambda_next = np.linalg.norm(x_next, 2) # eigenvalue approximation\n",
    "        x_next /= lambda_next # normalization of the eigenvector approximation\n",
    "        if np.abs(lambda_next - np.linalg.norm(x, 2)) < epsilon:\n",
    "            return lambda_next, x_next\n",
    "        x = x_next\n",
    "    return lambda_next, x_next\n",
    "\n",
    "# Example usage\n",
    "A = np.array([[-30, 10, 20], [10, 40, -50], [20, -50, -10]])\n",
    "x0 = np.array([1, 1, 1]) # any non-zero initial vector will work\n",
    "\n",
    "eigenvalue, eigenvector = power_method(A, x0, max_iter=5)\n",
    "print(\"Eigenvalue: \", eigenvalue)\n",
    "print(\"Eigenvector: \", eigenvector)"
   ]
  }
 ],
 "metadata": {
  "kernelspec": {
   "display_name": "Python 3",
   "language": "python",
   "name": "python3"
  },
  "language_info": {
   "codemirror_mode": {
    "name": "ipython",
    "version": 3
   },
   "file_extension": ".py",
   "mimetype": "text/x-python",
   "name": "python",
   "nbconvert_exporter": "python",
   "pygments_lexer": "ipython3",
   "version": "3.10.4 (main, Dec 19 2022, 20:24:16) [GCC 9.4.0]"
  },
  "orig_nbformat": 4,
  "vscode": {
   "interpreter": {
    "hash": "3ad933181bd8a04b432d3370b9dc3b0662ad032c4dfaa4e4f1596c548f763858"
   }
  }
 },
 "nbformat": 4,
 "nbformat_minor": 2
}
