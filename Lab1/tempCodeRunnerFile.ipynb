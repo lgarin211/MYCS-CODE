print(array1.shape)
print(array1.shape)
print(array2.shape)
print(array1*array2)