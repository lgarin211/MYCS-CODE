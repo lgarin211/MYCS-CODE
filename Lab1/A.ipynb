{
 "cells": [
  {
   "cell_type": "code",
   "execution_count": 1,
   "metadata": {},
   "outputs": [],
   "source": [
    "import numpy as np"
   ]
  },
  {
   "cell_type": "code",
   "execution_count": 2,
   "metadata": {},
   "outputs": [
    {
     "name": "stdout",
     "output_type": "stream",
     "text": [
      "[[  9  20  33  48]\n",
      " [ 45  60  77  96]\n",
      " [225 260 297 336]]\n"
     ]
    }
   ],
   "source": [
    "array1 = np.array([[1, 2, 3, 4],[5, 6, 7, 8],[25, 26, 27, 28]])\n",
    "array2 = np.array([[9,10,11,12]])\n",
    "\n",
    "# print(array1.shape)\n",
    "# print(array1.shape)\n",
    "# print(array2.shape)\n",
    "print(array1*array2)\n",
    "# print(np.dot(array1,array2))\n"
   ]
  }
 ],
 "metadata": {
  "kernelspec": {
   "display_name": "Python 3",
   "language": "python",
   "name": "python3"
  },
  "language_info": {
   "codemirror_mode": {
    "name": "ipython",
    "version": 3
   },
   "file_extension": ".py",
   "mimetype": "text/x-python",
   "name": "python",
   "nbconvert_exporter": "python",
   "pygments_lexer": "ipython3",
   "version": "3.10.4"
  },
  "orig_nbformat": 4,
  "vscode": {
   "interpreter": {
    "hash": "3ad933181bd8a04b432d3370b9dc3b0662ad032c4dfaa4e4f1596c548f763858"
   }
  }
 },
 "nbformat": 4,
 "nbformat_minor": 2
}
