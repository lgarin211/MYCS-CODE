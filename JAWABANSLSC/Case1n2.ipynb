{
 "cells": [
  {
   "cell_type": "code",
   "execution_count": 5,
   "metadata": {},
   "outputs": [],
   "source": [
    "import numpy as np\n",
    "import matplotlib.pyplot as plt"
   ]
  },
  {
   "cell_type": "code",
   "execution_count": 7,
   "metadata": {},
   "outputs": [],
   "source": [
    "mX = [\n",
    "        [\n",
    "            [10, 2, -6],\n",
    "            [-1, 4, 2],\n",
    "            [2, 3, 6]\n",
    "        ],\n",
    "        [\n",
    "            [-5, 2, -8],\n",
    "            [4, -3, -9],\n",
    "            [-8, -10, 9]\n",
    "        ],\n",
    "        [\n",
    "            [10, -5, 3, 0],\n",
    "            [3, -9, 2, -2],\n",
    "            [-8, 0, 17, -4],\n",
    "            [3, -3, -8, -15]\n",
    "        ],\n",
    "]\n",
    "\n",
    "mY = [\n",
    "    [17, -4, -12],\n",
    "    [13, -7, -2],\n",
    "    [9, 10, -10, -18]\n",
    "]"
   ]
  },
  {
   "cell_type": "code",
   "execution_count": 8,
   "metadata": {},
   "outputs": [],
   "source": [
    "# def checkDiagonalDominant(m):\n",
    "#     for i in range(len(m)):\n",
    "#         sum = 0\n",
    "#         for j in range(len(m)):\n",
    "#             if i != j:\n",
    "#                 sum += abs(m[i][j])\n",
    "#         if abs(m[i][i]) < sum:\n",
    "#             return False\n",
    "#     return True\n",
    "\n",
    "def checkDiagonalDominant(m):\n",
    "    m = np.array(m)\n",
    "    diag = np.diag(m)\n",
    "    rowSum = np.sum(np.abs(m), axis=1)\n",
    "    sumWithoutDiag = rowSum - np.abs(diag)\n",
    "    \n",
    "    return np.all(np.abs(diag) > sumWithoutDiag)\n",
    "\n"
   ]
  },
  {
   "cell_type": "code",
   "execution_count": 17,
   "metadata": {},
   "outputs": [],
   "source": [
    "#case 2 Gauss Seidel\n",
    "def gaussSeidel(x, y, max,epsilon):\n",
    "    x=np.array(x)\n",
    "    y=np.array(y)\n",
    "    \n",
    "    if (not checkDiagonalDominant(x)):\n",
    "        return False\n",
    "    \n",
    "    diag=np.diag(x)\n",
    "    x=-x\n",
    "    \n",
    "    np.fill_diagonal(x,0)\n",
    "    \n",
    "    print(x)\n",
    "    x_before=np.zeros(x.shape[0])\n",
    "    \n",
    "    for i in range(max):\n",
    "        x_new=np.array(x_before)\n",
    "        for j,row in enumerate(x):\n",
    "            x_new[j]=(y[j]+np.dot(row,x_new))/diag[j]\n",
    "            \n",
    "        distane=np.sqrt(np.dot((x_new-x_before),(x_new-x_before)))\n",
    "        print(f\"{i}:{x_new}\")        \n",
    "        if distane<epsilon:\n",
    "            print(\"Converge\")\n",
    "            return x_new\n",
    "        x_before=x_new     "
   ]
  },
  {
   "cell_type": "code",
   "execution_count": 15,
   "metadata": {},
   "outputs": [
    {
     "name": "stdout",
     "output_type": "stream",
     "text": [
      "Equation 1 array X\n"
     ]
    },
    {
     "ename": "NameError",
     "evalue": "name 'np' is not defined",
     "output_type": "error",
     "traceback": [
      "\u001b[0;31m---------------------------------------------------------------------------\u001b[0m",
      "\u001b[0;31mNameError\u001b[0m                                 Traceback (most recent call last)",
      "Cell \u001b[0;32mIn[15], line 5\u001b[0m\n\u001b[1;32m      2\u001b[0m \u001b[39mfor\u001b[39;00m i, x \u001b[39min\u001b[39;00m \u001b[39menumerate\u001b[39m(mX):\n\u001b[1;32m      3\u001b[0m   \u001b[39mprint\u001b[39m(\u001b[39mf\u001b[39m\u001b[39m\"\u001b[39m\u001b[39mEquation \u001b[39m\u001b[39m{\u001b[39;00mi\u001b[39m+\u001b[39m\u001b[39m1\u001b[39m\u001b[39m}\u001b[39;00m\u001b[39m array X\u001b[39m\u001b[39m\"\u001b[39m)\n\u001b[0;32m----> 5\u001b[0m   \u001b[39mif\u001b[39;00m(checkDiagonalDominant(x)):\n\u001b[1;32m      6\u001b[0m     \u001b[39mprint\u001b[39m(\u001b[39m\"\u001b[39m\u001b[39mDiagonally Dominant!\u001b[39m\u001b[39m\"\u001b[39m)\n\u001b[1;32m      7\u001b[0m   \u001b[39melse\u001b[39;00m:\n",
      "Cell \u001b[0;32mIn[8], line 12\u001b[0m, in \u001b[0;36mcheckDiagonalDominant\u001b[0;34m(m)\u001b[0m\n\u001b[1;32m     11\u001b[0m \u001b[39mdef\u001b[39;00m \u001b[39mcheckDiagonalDominant\u001b[39m(m):\n\u001b[0;32m---> 12\u001b[0m     m \u001b[39m=\u001b[39m np\u001b[39m.\u001b[39marray(m)\n\u001b[1;32m     13\u001b[0m     diag \u001b[39m=\u001b[39m np\u001b[39m.\u001b[39mdiag(m)\n\u001b[1;32m     14\u001b[0m     rowSum \u001b[39m=\u001b[39m np\u001b[39m.\u001b[39msum(np\u001b[39m.\u001b[39mabs(m), axis\u001b[39m=\u001b[39m\u001b[39m1\u001b[39m)\n",
      "\u001b[0;31mNameError\u001b[0m: name 'np' is not defined"
     ]
    }
   ],
   "source": [
    "# diagonal or not\n",
    "for i, x in enumerate(mX):\n",
    "  print(f\"Equation {i+1} array X\")\n",
    "  \n",
    "  if(checkDiagonalDominant(x)):\n",
    "    print(\"Diagonally Dominant!\")\n",
    "  else:\n",
    "    print(\"Not Diagonally Dominant!\")\n",
    "  print()\n",
    "  print()"
   ]
  }
 ],
 "metadata": {
  "kernelspec": {
   "display_name": "Python 3 (ipykernel)",
   "language": "python",
   "name": "python3"
  },
  "language_info": {
   "codemirror_mode": {
    "name": "ipython",
    "version": 3
   },
   "file_extension": ".py",
   "mimetype": "text/x-python",
   "name": "python",
   "nbconvert_exporter": "python",
   "pygments_lexer": "ipython3",
   "version": "3.10.4"
  },
  "orig_nbformat": 4
 },
 "nbformat": 4,
 "nbformat_minor": 2
}
