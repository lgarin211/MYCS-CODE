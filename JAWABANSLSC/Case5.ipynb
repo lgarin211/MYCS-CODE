{
 "cells": [
  {
   "cell_type": "code",
   "execution_count": 2,
   "metadata": {},
   "outputs": [],
   "source": [
    "import numpy as np\n",
    "import matplotlib.pyplot as plt\n",
    "from sympy import *"
   ]
  },
  {
   "cell_type": "code",
   "execution_count": 11,
   "metadata": {},
   "outputs": [
    {
     "name": "stdout",
     "output_type": "stream",
     "text": [
      "left Riman Sum =  645.1387652149571\n",
      "right Riman Sum =  530.2422134908192\n",
      "mid Riman Sum =  580.4556464297783\n",
      "Trapezoid Sum =  587.6904893528881\n"
     ]
    }
   ],
   "source": [
    "# x = symbols('x') \n",
    "fr = lambda x:3*x**4-7*x**2+5\n",
    "a=-4\n",
    "b=3\n",
    "n=30\n",
    "\n",
    "x=np.linspace(a,b,n)\n",
    "width=(b-a)/(n-1)\n",
    "\n",
    "xLeft=x[:-1]\n",
    "xRight=x[1:]\n",
    "xMid=(xLeft+xRight)/2\n",
    "\n",
    "# print(x, xLeft, xRight, xMid)\n",
    "\n",
    "YLeft=fr(xLeft)\n",
    "YRight=fr(xRight)\n",
    "YMid=fr(xMid)\n",
    "\n",
    "\n",
    "# left Riman\n",
    "leftRiemannSum=width*np.sum(np.abs(YLeft))\n",
    "rightRiemannSum=width*np.sum(np.abs(YRight))\n",
    "midRiemannSum=width*np.sum(np.abs(YMid))\n",
    "\n",
    "print('left Riman Sum = ',leftRiemannSum)\n",
    "print('right Riman Sum = ',rightRiemannSum)\n",
    "print('mid Riman Sum = ',midRiemannSum)\n",
    "\n",
    "\n",
    "\n",
    "# yTrapezoid=(np.sum(width*np.abs(yTrapezoid[:1])))+(np.sum(width*np.abs([yTrapezoid[1:]])))*with/2\n",
    "yTrapezoid=(np.sum(np.abs(YLeft))+np.sum(np.abs(YRight)))*width/2\n",
    "print('Trapezoid Sum = ',yTrapezoid)"
   ]
  }
 ],
 "metadata": {
  "kernelspec": {
   "display_name": "Python 3 (ipykernel)",
   "language": "python",
   "name": "python3"
  },
  "orig_nbformat": 4
 },
 "nbformat": 4,
 "nbformat_minor": 2
}
