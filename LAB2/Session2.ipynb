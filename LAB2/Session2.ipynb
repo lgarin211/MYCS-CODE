{
 "cells": [
  {
   "cell_type": "code",
   "execution_count": 1,
   "metadata": {},
   "outputs": [],
   "source": [
    "import numpy as np"
   ]
  },
  {
   "cell_type": "code",
   "execution_count": 2,
   "metadata": {},
   "outputs": [
    {
     "name": "stdout",
     "output_type": "stream",
     "text": [
      "[ 6  7 15]\n",
      "[11 12 27]\n",
      "True\n"
     ]
    }
   ],
   "source": [
    "a= [[6,3,2],\n",
    "    [2,7,3],\n",
    "    [7,5,15]]\n",
    "\n",
    "# \n",
    "\n",
    "print(np.diag(a))\n",
    "print(np.sum(np.abs(a),axis=1))\n",
    "\n",
    "def checkDiagonallyDominant(a):\n",
    "    diag=np.diag(a)\n",
    "    sumWithDiag=np.sum(np.abs(a),axis=1)\n",
    "    #---AXIS---\n",
    "    # 1 itu buat jumlahin ke samping \n",
    "    # 0 itu buat jumlahin ke bawah\n",
    "    sumWithoutDiag = sumWithDiag-diag\n",
    "\n",
    "    if np.all(diag>sumWithoutDiag):\n",
    "        print(\"True\")\n",
    "    else:\n",
    "        print(\"False\")\n",
    "\n",
    "checkDiagonallyDominant(a)"
   ]
  }
 ],
 "metadata": {
  "kernelspec": {
   "display_name": "Python 3",
   "language": "python",
   "name": "python3"
  },
  "language_info": {
   "codemirror_mode": {
    "name": "ipython",
    "version": 3
   },
   "file_extension": ".py",
   "mimetype": "text/x-python",
   "name": "python",
   "nbconvert_exporter": "python",
   "pygments_lexer": "ipython3",
   "version": "3.10.4 (main, Dec 19 2022, 20:24:16) [GCC 9.4.0]"
  },
  "orig_nbformat": 4,
  "vscode": {
   "interpreter": {
    "hash": "3ad933181bd8a04b432d3370b9dc3b0662ad032c4dfaa4e4f1596c548f763858"
   }
  }
 },
 "nbformat": 4,
 "nbformat_minor": 2
}
