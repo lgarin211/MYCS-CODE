{
 "cells": [
  {
   "cell_type": "code",
   "execution_count": 1,
   "metadata": {},
   "outputs": [
    {
     "name": "stdout",
     "output_type": "stream",
     "text": [
      "Checking system of equations 1:\n",
      "The system is diagonally dominant.\n",
      "Checking system of equations 2:\n",
      "The system is not diagonally dominant.\n",
      "Checking system of equations 3:\n",
      "The system is diagonally dominant.\n"
     ]
    }
   ],
   "source": [
    "mX = [\n",
    "        [\n",
    "            [10, 2, -6],\n",
    "            [-1, 4, 2],\n",
    "            [2, 3, 6]\n",
    "        ],\n",
    "        [\n",
    "            [-5, 2, -8],\n",
    "            [4, -3, -9],\n",
    "            [-8, -10, 9]\n",
    "        ],\n",
    "        [\n",
    "            [10, -5, 3, 0],\n",
    "            [3, -9, 2, -2],\n",
    "            [-8, 0, 17, -4],\n",
    "            [3, -3, -8, -15]\n",
    "        ],\n",
    "]\n",
    "\n",
    "mY = [\n",
    "    [17, -4, -12],\n",
    "    [13, -7, -2],\n",
    "    [9, 10, -10, -18]\n",
    "]\n",
    "\n",
    "for i, eq in enumerate(mX):\n",
    "    print(f\"Checking system of equations {i+1}:\")\n",
    "    is_diagonal_dominant = True\n",
    "    for j in range(len(eq)):\n",
    "        row = eq[j]\n",
    "        diagonal_value = abs(row[j])\n",
    "        other_values_sum = sum([abs(val) for idx, val in enumerate(row) if idx != j])\n",
    "        if diagonal_value <= other_values_sum:\n",
    "            is_diagonal_dominant = False\n",
    "            break\n",
    "    if is_diagonal_dominant:\n",
    "        print(\"The system is diagonally dominant.\")\n",
    "    else:\n",
    "        print(\"The system is not diagonally dominant.\")\n",
    "\n"
   ]
  }
 ],
 "metadata": {
  "kernelspec": {
   "display_name": "Python 3 (ipykernel)",
   "language": "python",
   "name": "python3"
  },
  "orig_nbformat": 4
 },
 "nbformat": 4,
 "nbformat_minor": 2
}
