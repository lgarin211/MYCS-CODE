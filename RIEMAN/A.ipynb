{
 "cells": [
  {
   "cell_type": "code",
   "execution_count": 4,
   "metadata": {},
   "outputs": [],
   "source": [
    "import numpy as np"
   ]
  },
  {
   "cell_type": "code",
   "execution_count": 7,
   "metadata": {},
   "outputs": [
    {
     "name": "stdout",
     "output_type": "stream",
     "text": [
      "27.439999999999998\n",
      "32.64\n",
      "[2.1 2.3 2.5 2.7 2.9]\n"
     ]
    }
   ],
   "source": [
    "# left Riemann sum\n",
    "a = 2\n",
    "b = 3\n",
    "n = 6\n",
    "\n",
    "boxwidth = (b-a)/(n-1)\n",
    "\n",
    "x=np.linspace(a,b,n)\n",
    "def f(x):\n",
    "    return 6*x**2-4*x+2\n",
    "y=f(x[:-1])\n",
    "pp = np.exp(x)\n",
    "# print(pp)\n",
    "# print(y)\n",
    "# print(x)\n",
    "leftRiemann = boxwidth*np.sum(np.abs(y))\n",
    "\n",
    "yright = f(x[1:])\n",
    "rightRiemann = boxwidth*np.sum(np.abs(yright))\n",
    "print(leftRiemann)\n",
    "print(rightRiemann)\n",
    "\n",
    "\n",
    "xMI = (x[:-1]+x[1:])/2\n",
    "print(xMI)"
   ]
  },
  {
   "cell_type": "code",
   "execution_count": null,
   "metadata": {},
   "outputs": [],
   "source": []
  }
 ],
 "metadata": {
  "kernelspec": {
   "display_name": "Python 3 (ipykernel)",
   "language": "python",
   "name": "python3"
  },
  "orig_nbformat": 4
 },
 "nbformat": 4,
 "nbformat_minor": 2
}
