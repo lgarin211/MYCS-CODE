{
 "cells": [
  {
   "cell_type": "code",
   "execution_count": 2,
   "metadata": {},
   "outputs": [],
   "source": [
    "import numpy as np\n",
    "from scipy import optimize"
   ]
  },
  {
   "cell_type": "code",
   "execution_count": 4,
   "metadata": {},
   "outputs": [],
   "source": [
    "def bisection(f, a, b, tol=1e-5):\n",
    "    #cek apakah f(a) dan f(b) memiliki tanda yang berbeda\n",
    "    if np.sign(f(a)) == np.sign(f(b)):    \n",
    "        print(\"Root is not bracketed\")\n",
    "        return None\n",
    "\n",
    "    mid=(a+b)/2\n",
    "    \n",
    "    if np.abs(f(mid)) < tol:\n",
    "        return mid\n",
    "    elif np.sign(f(a)) == np.sign(f(mid)):\n",
    "        # root Val ada di antaran mid dan b\n",
    "        return bisection(f, mid, b, tol)\n",
    "    elif np.sign(f(b)) == np.sign(f(mid)):\n",
    "        # root Val ada di antaran a dan mid\n",
    "        return bisection(f, a, mid, tol)\n",
    "    else:\n",
    "        print(\"Something went wrong\")\n",
    "        return None"
   ]
  },
  {
   "cell_type": "code",
   "execution_count": 12,
   "metadata": {},
   "outputs": [
    {
     "name": "stdout",
     "output_type": "stream",
     "text": [
      "1.7320508075689531\n",
      "0.008056640625\n"
     ]
    }
   ],
   "source": [
    "f=lambda x: x**2-3\n",
    "a-1\n",
    "b=4\n",
    "tol=0.000000000001\n",
    "in=0\n",
    "print((in=bisection(f, a, b, tol)))\n",
    "# print(optimize.bisect(f, a, b, tol))\n",
    "print(f(1.734375))\n"
   ]
  },
  {
   "cell_type": "code",
   "execution_count": 29,
   "metadata": {},
   "outputs": [],
   "source": [
    "#newton raphson\n",
    "# linear approximation\n",
    "def newton(f, df, x0, tol=1e-5):\n",
    "    x1=x0-f(x0)/df(x0)\n",
    "    if np.abs(f(x0)) < tol:\n",
    "        return x0\n",
    "    else:\n",
    "        print(\"a\")\n",
    "        return newton(f, df, x1, tol)\n"
   ]
  },
  {
   "cell_type": "code",
   "execution_count": 31,
   "metadata": {},
   "outputs": [
    {
     "name": "stdout",
     "output_type": "stream",
     "text": [
      "a\n",
      "a\n",
      "a\n",
      "1.7321428571428572\n"
     ]
    }
   ],
   "source": [
    "f=lambda x: x**2-3\n",
    "df=lambda x: 2*x\n",
    "x0=1\n",
    "tol=0.01\n",
    "print(newton(f, df, x0, tol))"
   ]
  }
 ],
 "metadata": {
  "kernelspec": {
   "display_name": "Python 3 (ipykernel)",
   "language": "python",
   "name": "python3"
  },
  "orig_nbformat": 4
 },
 "nbformat": 4,
 "nbformat_minor": 2
}
